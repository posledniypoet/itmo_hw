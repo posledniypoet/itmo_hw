{
 "cells": [
  {
   "cell_type": "markdown",
   "id": "91458a5d",
   "metadata": {},
   "source": [
    "# 1. ResolutionFailure: Your dependencies could not be resolved\n",
    "\n",
    "Найдите python пакет, имеющий зависимость от любого python пакета, использованного вами в первой лабораторной. Создайте свой пакет и установите его с конфликтующими зависимостями\n",
    "\n",
    "1. Создайте и [загрузите в pypi](https://betterscientificsoftware.github.io/python-for-hpc/tutorials/python-pypi-packaging/) свой пакет, проверьте, что его можно установить через pip\n",
    "1. Установите свой пакет с помощью pip\n",
    "1. Установите свой пакет в любую вируальную среду\n",
    "1. Продемонстрируйте корректно работающие функции в своём python-пакете"
   ]
  },
  {
   "cell_type": "code",
   "execution_count": 3,
   "id": "94822092",
   "metadata": {},
   "outputs": [
    {
     "name": "stdout",
     "output_type": "stream",
     "text": [
      "Note: you may need to restart the kernel to use updated packages.Requirement already satisfied: setuptools in c:\\users\\sanev\\appdata\\local\\programs\\python\\python39\\lib\\site-packages (58.2.0)\n",
      "\n"
     ]
    }
   ],
   "source": [
    "pip install setuptools "
   ]
  },
  {
   "cell_type": "markdown",
   "id": "2eed369f-4a10-43a8-b209-c50b011b9ac7",
   "metadata": {},
   "source": [
    "from setuptools import setup\n",
    "\n",
    "setup(\n",
    "    name='kalinichev_module',\n",
    "    version='0.1.0',    \n",
    "    description='A example Python package',\n",
    "    url='https://github.com/posledniypoet',\n",
    "    author='Alexandr Kalinichev',\n",
    "    author_email='kalex01@bk.ru',    \n",
    "    license='BSD 2-clause',\n",
    "    packages=['kalinichev_module'],\n",
    "    install_requires=[\n",
    "                      'keras',\n",
    "                      'numpy',\n",
    "                      'tensorflow==2.6.0',\n",
    "                      'scipy',\n",
    "                      'scikit-learn',\n",
    "                      'pillow',\n",
    "                      'h5py',\n",
    "                      'tensorboard~=2.4',\n",
    "                      'tensorflow-estimator~=2.6',\n",
    "                      'tensorflow-gpu==2.6.0'\n",
    "                      ],\n",
    "\n",
    "    classifiers=[\n",
    "        'Development Status :: 1 - Planning',\n",
    "        'Intended Audience :: Science/Research',\n",
    "        'License :: OSI Approved :: BSD License',  \n",
    "        'Operating System :: POSIX :: Linux',        \n",
    "        'Programming Language :: Python :: 2',\n",
    "        'Programming Language :: Python :: 2.7',\n",
    "        'Programming Language :: Python :: 3',\n",
    "        'Programming Language :: Python :: 3.4',\n",
    "        'Programming Language :: Python :: 3.5',\n",
    "    ],\n",
    ")  "
   ]
  },
  {
   "cell_type": "raw",
   "id": "840aceb6-1908-4c32-8509-a07c6df3e47c",
   "metadata": {},
   "source": [
    "Проверим работу модуля локально, для этого из корня нашего пакета сделаем \"pip install . \".\n",
    "PS C:\\Users\\sanev\\PycharmProjects\\pyexample> pip install .\n",
    "Processing c:\\users\\sanev\\pycharmprojects\\pyexample\n",
    "  Preparing metadata (setup.py) ... done\n",
    "Requirement already satisfied: numpy in c:\\users\\sanev\\appdata\\local\\programs\\python\\python39\\lib\\site-packages (from kalinichev-module==0.1.0) (1.21.2)\n",
    "Requirement already satisfied: matplotlib in c:\\users\\sanev\\appdata\\local\\programs\\python\\python39\\lib\\site-packages (from kalinichev-module==0.1.0) (3.4.3)\n",
    "Requirement already satisfied: cycler>=0.10 in c:\\users\\sanev\\appdata\\local\\programs\\python\\python39\\lib\\site-packages (from matplotlib->kalinichev-module==0.1.0) (0.\n",
    "10.0)\n",
    "Requirement already satisfied: kiwisolver>=1.0.1 in c:\\users\\sanev\\appdata\\local\\programs\\python\\python39\\lib\\site-packages (from matplotlib->kalinichev-module==0.1.0\n",
    ") (1.3.2)\n",
    "Requirement already satisfied: pillow>=6.2.0 in c:\\users\\sanev\\appdata\\local\\programs\\python\\python39\\lib\\site-packages (from matplotlib->kalinichev-module==0.1.0) (8\n",
    ".3.2)\n",
    "Requirement already satisfied: python-dateutil>=2.7 in c:\\users\\sanev\\appdata\\local\\programs\\python\\python39\\lib\\site-packages (from matplotlib->kalinichev-module==0.\n",
    "1.0) (2.8.2)\n",
    "Requirement already satisfied: pyparsing>=2.2.1 in c:\\users\\sanev\\appdata\\local\\programs\\python\\python39\\lib\\site-packages (from matplotlib->kalinichev-module==0.1.0)\n",
    " (2.4.7)\n",
    "Requirement already satisfied: six in c:\\users\\sanev\\appdata\\local\\programs\\python\\python39\\lib\\site-packages (from cycler>=0.10->matplotlib->kalinichev-module==0.1.0\n",
    ") (1.16.0)\n",
    "Using legacy 'setup.py install' for kalinichev-module, since package 'wheel' is not installed.\n",
    "Installing collected packages: kalinichev-module\n",
    "  Attempting uninstall: kalinichev-module\n",
    "    Found existing installation: kalinichev-module 0.1.0\n",
    "    Uninstalling kalinichev-module-0.1.0:\n",
    "      Successfully uninstalled kalinichev-module-0.1.0\n",
    "    Running setup.py install for kalinichev-module ... done\n",
    "Successfully installed kalinichev-module-0.1.0\n",
    "\n",
    "\n",
    "Получим текст успешной установки модуля."
   ]
  },
  {
   "cell_type": "code",
   "execution_count": 2,
   "id": "d67baabc-c2f6-45d1-8ef3-507a98db4da9",
   "metadata": {},
   "outputs": [
    {
     "data": {
      "text/plain": [
       "'Alexander Kalinichev'"
      ]
     },
     "execution_count": 2,
     "metadata": {},
     "output_type": "execute_result"
    }
   ],
   "source": [
    "import kalinichev_module \n",
    "\n",
    "kalinichev_module.__author__"
   ]
  },
  {
   "cell_type": "code",
   "execution_count": 3,
   "id": "3d7890cc-9433-4713-a398-2f7d88dd773c",
   "metadata": {},
   "outputs": [
    {
     "data": {
      "text/plain": [
       "'0.1.0'"
      ]
     },
     "execution_count": 3,
     "metadata": {},
     "output_type": "execute_result"
    }
   ],
   "source": [
    "kalinichev_module.__version__"
   ]
  },
  {
   "cell_type": "code",
   "execution_count": 4,
   "id": "752acd2a-b099-482b-a429-f4621df9217d",
   "metadata": {},
   "outputs": [
    {
     "data": {
      "text/plain": [
       "'ITMO University'"
      ]
     },
     "execution_count": 4,
     "metadata": {},
     "output_type": "execute_result"
    }
   ],
   "source": [
    "kalinichev_module.__credits__"
   ]
  },
  {
   "cell_type": "code",
   "execution_count": 5,
   "id": "9ba8edb0-63fe-4f20-a658-e908719d4032",
   "metadata": {},
   "outputs": [
    {
     "data": {
      "image/png": "[encoded data removed]",
      "text/plain": [
       "<Figure size 432x288 with 1 Axes>"
      ]
     },
     "metadata": {
      "needs_background": "light"
     },
     "output_type": "display_data"
    }
   ],
   "source": [
    "import kalinichev_module.module_fast_hist as module\n",
    "array = [1,1,2,3,4,1,2,3,4]\n",
    "\n",
    "module.to_graph(array)"
   ]
  },
  {
   "cell_type": "raw",
   "id": "e26d547f-f4c2-4cae-bce3-d6ed18e0ae26",
   "metadata": {},
   "source": [
    "Далее я удалил модуль и загрузил его в pypi."
   ]
  },
  {
   "cell_type": "raw",
   "id": "4b324630-3cc5-4fb1-8b09-f5b9d008bdd3",
   "metadata": {},
   "source": [
    "Создание дистрибутива.\n",
    "\n",
    "PyPI имеет определенные необходимые метаданные, которые должен предоставить setup.py. Проверим это командой\n",
    "\"python3 setup.py check\".\n",
    "\n",
    "running check\n",
    "\n",
    "Если не поругалась, то все в порядке.\n",
    "Теперь создадим дистрибутив из корня моего модуля командой \"python setup.py sdist\"\n",
    "PS C:\\Users\\sanev\\PycharmProjects\\pyexample> python setup.py sdist\n",
    "running sdist\n",
    "running egg_info\n",
    "writing kalinichev_module.egg-info\\PKG-INFO\n",
    "writing dependency_links to kalinichev_module.egg-info\\dependency_links.txt\n",
    "writing requirements to kalinichev_module.egg-info\\requires.txt\n",
    "writing top-level names to kalinichev_module.egg-info\\top_level.txt\n",
    "reading manifest file 'kalinichev_module.egg-info\\SOURCES.txt'\n",
    "adding license file 'LICENSE'\n",
    "writing manifest file 'kalinichev_module.egg-info\\SOURCES.txt'\n",
    "running check\n",
    "creating kalinichev_module-0.1.0\n",
    "creating kalinichev_module-0.1.0\\kalinichev_module\n",
    "creating kalinichev_module-0.1.0\\kalinichev_module.egg-info\n",
    "copying files to kalinichev_module-0.1.0...\n",
    "copying LICENSE -> kalinichev_module-0.1.0\n",
    "copying README.rst -> kalinichev_module-0.1.0\n",
    "copying setup.py -> kalinichev_module-0.1.0\n",
    "copying kalinichev_module\\__init__.py -> kalinichev_module-0.1.0\\kalinichev_module\n",
    "copying kalinichev_module\\module_fast_hist.py -> kalinichev_module-0.1.0\\kalinichev_module\n",
    "copying kalinichev_module.egg-info\\PKG-INFO -> kalinichev_module-0.1.0\\kalinichev_module.egg-info\n",
    "copying kalinichev_module.egg-info\\SOURCES.txt -> kalinichev_module-0.1.0\\kalinichev_module.egg-info\n",
    "copying kalinichev_module.egg-info\\dependency_links.txt -> kalinichev_module-0.1.0\\kalinichev_module.egg-info\n",
    "copying kalinichev_module.egg-info\\requires.txt -> kalinichev_module-0.1.0\\kalinichev_module.egg-info\n",
    "copying kalinichev_module.egg-info\\top_level.txt -> kalinichev_module-0.1.0\\kalinichev_module.egg-info\n",
    "Writing kalinichev_module-0.1.0\\setup.cfg\n",
    "creating dist\n",
    "Creating tar archive\n",
    "removing 'kalinichev_module-0.1.0' (and everything under it)\n",
    "Появилась папочка dist и в ней .tar файл моего модуля."
   ]
  },
  {
   "cell_type": "code",
   "execution_count": 8,
   "id": "2ee014d9-822f-487d-b76d-8036c72c3b68",
   "metadata": {},
   "outputs": [
    {
     "name": "stdout",
     "output_type": "stream",
     "text": [
      "Requirement already satisfied: twine in c:\\users\\sanev\\appdata\\local\\programs\\python\\python39\\lib\\site-packages (3.4.2)\n",
      "Requirement already satisfied: readme-renderer>=21.0 in c:\\users\\sanev\\appdata\\local\\programs\\python\\python39\\lib\\site-packages (from twine) (30.0)\n",
      "Requirement already satisfied: importlib-metadata>=3.6 in c:\\users\\sanev\\appdata\\local\\programs\\python\\python39\\lib\\site-packages (from twine) (4.8.1)\n",
      "Requirement already satisfied: colorama>=0.4.3 in c:\\users\\sanev\\appdata\\local\\programs\\python\\python39\\lib\\site-packages (from twine) (0.4.4)\n",
      "Requirement already satisfied: pkginfo>=1.4.2 in c:\\users\\sanev\\appdata\\local\\programs\\python\\python39\\lib\\site-packages (from twine) (1.7.1)\n",
      "Requirement already satisfied: keyring>=15.1 in c:\\users\\sanev\\appdata\\local\\programs\\python\\python39\\lib\\site-packages (from twine) (23.2.1)\n",
      "Requirement already satisfied: rfc3986>=1.4.0 in c:\\users\\sanev\\appdata\\local\\programs\\python\\python39\\lib\\site-packages (from twine) (1.5.0)\n",
      "Requirement already satisfied: requests-toolbelt!=0.9.0,>=0.8.0 in c:\\users\\sanev\\appdata\\local\\programs\\python\\python39\\lib\\site-packages (from twine) (0.9.1)\n",
      "Requirement already satisfied: tqdm>=4.14 in c:\\users\\sanev\\appdata\\local\\programs\\python\\python39\\lib\\site-packages (from twine) (4.62.3)\n",
      "Requirement already satisfied: requests>=2.20 in c:\\users\\sanev\\appdata\\local\\programs\\python\\python39\\lib\\site-packages (from twine) (2.26.0)\n",
      "Requirement already satisfied: zipp>=0.5 in c:\\users\\sanev\\appdata\\local\\programs\\python\\python39\\lib\\site-packages (from importlib-metadata>=3.6->twine) (3.6.0)\n",
      "Requirement already satisfied: pywin32-ctypes!=0.1.0,!=0.1.1 in c:\\users\\sanev\\appdata\\local\\programs\\python\\python39\\lib\\site-packages (from keyring>=15.1->twine) (0.2.0)\n",
      "Requirement already satisfied: bleach>=2.1.0 in c:\\users\\sanev\\appdata\\local\\programs\\python\\python39\\lib\\site-packages (from readme-renderer>=21.0->twine) (4.1.0)\n",
      "Requirement already satisfied: docutils>=0.13.1 in c:\\users\\sanev\\appdata\\local\\programs\\python\\python39\\lib\\site-packages (from readme-renderer>=21.0->twine) (0.17.1)\n",
      "Requirement already satisfied: Pygments>=2.5.1 in c:\\users\\sanev\\appdata\\local\\programs\\python\\python39\\lib\\site-packages (from readme-renderer>=21.0->twine) (2.10.0)\n",
      "Requirement already satisfied: idna<4,>=2.5 in c:\\users\\sanev\\appdata\\local\\programs\\python\\python39\\lib\\site-packages (from requests>=2.20->twine) (3.2)\n",
      "Requirement already satisfied: urllib3<1.27,>=1.21.1 in c:\\users\\sanev\\appdata\\local\\programs\\python\\python39\\lib\\site-packages (from requests>=2.20->twine) (1.26.6)\n",
      "Requirement already satisfied: certifi>=2017.4.17 in c:\\users\\sanev\\appdata\\local\\programs\\python\\python39\\lib\\site-packages (from requests>=2.20->twine) (2021.5.30)\n",
      "Requirement already satisfied: charset-normalizer~=2.0.0 in c:\\users\\sanev\\appdata\\local\\programs\\python\\python39\\lib\\site-packages (from requests>=2.20->twine) (2.0.5)\n",
      "Requirement already satisfied: packaging in c:\\users\\sanev\\appdata\\local\\programs\\python\\python39\\lib\\site-packages (from bleach>=2.1.0->readme-renderer>=21.0->twine) (21.0)\n",
      "Requirement already satisfied: six>=1.9.0 in c:\\users\\sanev\\appdata\\local\\programs\\python\\python39\\lib\\site-packages (from bleach>=2.1.0->readme-renderer>=21.0->twine) (1.16.0)\n",
      "Requirement already satisfied: webencodings in c:\\users\\sanev\\appdata\\local\\programs\\python\\python39\\lib\\site-packages (from bleach>=2.1.0->readme-renderer>=21.0->twine) (0.5.1)\n",
      "Requirement already satisfied: pyparsing>=2.0.2 in c:\\users\\sanev\\appdata\\local\\programs\\python\\python39\\lib\\site-packages (from packaging->bleach>=2.1.0->readme-renderer>=21.0->twine) (2.4.7)\n",
      "Note: you may need to restart the kernel to use updated packages.\n"
     ]
    }
   ],
   "source": [
    "pip install twine"
   ]
  },
  {
   "cell_type": "raw",
   "id": "1ff56d73-f4b2-448f-9c77-6253f51da88f",
   "metadata": {},
   "source": [
    "twine upload --repository-url https://test.pypi.org/legacy/ dist/*\n",
    "\n",
    "Uploading distributions to https://test.pypi.org/legacy/\n",
    "Enter your username: kalex01\n",
    "Enter your password: \n",
    "Uploading kalinichev_module-0.1.0.tar.gz\n",
    "100%|█████████████████████████████████████████████████████████████████████████████████████████████████████| 5.64k/5.64k [00:01<00:00, 3.02kB/s]\n",
    "\n",
    "View at:\n",
    "https://test.pypi.org/project/kalinichev-module/0.1.0/"
   ]
  },
  {
   "cell_type": "raw",
   "id": "ba90d7e3-39a0-429e-affe-9a81342eeadb",
   "metadata": {},
   "source": [
    "twine upload dist/*\n",
    "\n",
    "Uploading distributions to https://upload.pypi.org/legacy/\n",
    "Enter your username: kalex01\n",
    "Enter your password: \n",
    "Uploading kalinichev_module-0.1.0.tar.gz\n",
    "100%|█████████████████████████████████████████████████████████████████████████████████████████████████████| 5.64k/5.64k [00:01<00:00, 3.03kB/s]\n",
    "\n",
    "View at:\n",
    "https://pypi.org/project/kalinichev-module/0.1.0/"
   ]
  },
  {
   "cell_type": "code",
   "execution_count": 1,
   "id": "8277e935-43c8-4c2d-912a-1470fd62a159",
   "metadata": {},
   "outputs": [
    {
     "name": "stdout",
     "output_type": "stream",
     "text": [
      "Requirement already satisfied: kalinichev_module in c:\\users\\sanev\\appdata\\local\\programs\\python\\python39\\lib\\site-packages (0.1.0)\n",
      "Requirement already satisfied: numpy in c:\\users\\sanev\\appdata\\local\\programs\\python\\python39\\lib\\site-packages (from kalinichev_module) (1.21.2)\n",
      "Requirement already satisfied: matplotlib in c:\\users\\sanev\\appdata\\local\\programs\\python\\python39\\lib\\site-packages (from kalinichev_module) (3.4.3)\n",
      "Requirement already satisfied: pillow>=6.2.0 in c:\\users\\sanev\\appdata\\local\\programs\\python\\python39\\lib\\site-packages (from matplotlib->kalinichev_module) (8.3.2)\n",
      "Requirement already satisfied: cycler>=0.10 in c:\\users\\sanev\\appdata\\local\\programs\\python\\python39\\lib\\site-packages (from matplotlib->kalinichev_module) (0.10.0)\n",
      "Requirement already satisfied: pyparsing>=2.2.1 in c:\\users\\sanev\\appdata\\local\\programs\\python\\python39\\lib\\site-packages (from matplotlib->kalinichev_module) (2.4.7)\n",
      "Requirement already satisfied: kiwisolver>=1.0.1 in c:\\users\\sanev\\appdata\\local\\programs\\python\\python39\\lib\\site-packages (from matplotlib->kalinichev_module) (1.3.2)\n",
      "Requirement already satisfied: python-dateutil>=2.7 in c:\\users\\sanev\\appdata\\local\\programs\\python\\python39\\lib\\site-packages (from matplotlib->kalinichev_module) (2.8.2)\n",
      "Requirement already satisfied: six in c:\\users\\sanev\\appdata\\local\\programs\\python\\python39\\lib\\site-packages (from cycler>=0.10->matplotlib->kalinichev_module) (1.16.0)\n",
      "Note: you may need to restart the kernel to use updated packages.\n"
     ]
    }
   ],
   "source": [
    "pip install kalinichev_module "
   ]
  },
  {
   "cell_type": "code",
   "execution_count": 2,
   "id": "f7b58d4f-8b63-446d-b96b-3024b3b499f1",
   "metadata": {},
   "outputs": [
    {
     "data": {
      "text/plain": [
       "'Alexander Kalinichev'"
      ]
     },
     "execution_count": 2,
     "metadata": {},
     "output_type": "execute_result"
    }
   ],
   "source": [
    "import kalinichev_module \n",
    "\n",
    "kalinichev_module.__author__"
   ]
  },
  {
   "cell_type": "markdown",
   "id": "8ca3935e",
   "metadata": {},
   "source": [
    "https://github.com/Zyxelo/GraphEnhancedMachineLearningForFraud# 2. Да кто так пишет?!\n",
    "\n",
    "Возьмите произвольный дипломный проект по машинному обучению. Для этого скорее всего будет достаточно найти на github проекты по запросу \"machine learning thesis\" и профильтровать по языку \"Jupyter Notebook\". С большой вероятностью код случайно выбранного диплома в этой сфере будет ужасным. Приведите код в порядок:\n",
    "\n",
    "- вынесите занимающий место функционал в python модули\n",
    "- напишите аннотации типов для функций\n",
    "- добавьте конфиги для параметров\n",
    "- если это не требует углубления в логику дипломной работы, расставьте порядок запуска ноутбуков и/или скриптов\n",
    "- для случайных процессов зафиксируйте seed\n",
    "- выделите зависимости, создайте pipenv файлы\n",
    "- сделайте пулреквест автору: покажите своё культурное превосходство\n",
    "\n",
    "\n",
    "Выберите такой проект, который:\n",
    "- ещё не был выбран вашими одногруппниками\n",
    "- относительно небольшой по количеству файлов. Не стоит тратить много времени на это задание\n",
    "- содержит как минимум половину грехов из списка исправлений выше"
   ]
  },
  {
   "cell_type": "markdown",
   "id": "5751b0e5-d124-4e03-b0ad-4cd5fac739fb",
   "metadata": {},
   "source": [
    "https://github.com/Zyxelo/GraphEnhancedMachineLearningForFraud"
   ]
  },
  {
   "cell_type": "code",
   "execution_count": null,
   "id": "3adcec0a-db62-466b-87b5-7151d387fd90",
   "metadata": {},
   "outputs": [],
   "source": [
    "Для начала создам yaml файл и буду подгружать оттуда какие-то нужные мне константы"
   ]
  },
  {
   "cell_type": "code",
   "execution_count": 15,
   "id": "6252816e-bb01-45b6-ad69-ac698863f776",
   "metadata": {},
   "outputs": [
    {
     "name": "stdout",
     "output_type": "stream",
     "text": [
      "{'path_to_table': ['/Users/victorode/Developer/Python/Neo4j/Neo4jProject/Fraud Detection Model/data/bs140513_032310.csv'], 'labels': ['step', 'customer', 'age', 'gender'], 'seed': 10}\n"
     ]
    }
   ],
   "source": [
    "import yaml \n",
    "\n",
    "with open('./consts.yaml') as f:\n",
    "    templates = yaml.safe_load(f)\n",
    "\n",
    "print(templates)"
   ]
  },
  {
   "cell_type": "markdown",
   "id": "717f5770-8bf4-4d65-a34b-1d6d1f49735c",
   "metadata": {},
   "source": [
    "Также добавлю config.ini файл"
   ]
  },
  {
   "cell_type": "raw",
   "id": "b8913b5d-9323-41de-b20d-0e938fed5de2",
   "metadata": {},
   "source": [
    "# config.ini\n",
    "[Graph]\n",
    "password=password123\n",
    "bolt_port=11002\n",
    "http_port=11001"
   ]
  },
  {
   "cell_type": "markdown",
   "id": "02fce983-62b8-49da-96af-50f95a44c75f",
   "metadata": {},
   "source": [
    "Также выделил часть кода в модули для простого импорта.Например,draw,py."
   ]
  },
  {
   "cell_type": "code",
   "execution_count": null,
   "id": "f6e95264-bf3f-4cad-8727-0f1791f75319",
   "metadata": {},
   "outputs": [],
   "source": [
    "from typing import Any\n",
    "import numpy as np\n",
    "import matplotlib\n",
    "import matplotlib.pyplot as plt\n",
    "from pandas import DataFrame\n",
    "from sklearn.ensemble import RandomForestClassifier\n",
    "\n",
    "\n",
    "def draw_func(clf_enh: RandomForestClassifier, features_enhanced: DataFrame, X_train_enh: Any):\n",
    "    matplotlib.rcParams.update({'font.size': 22})\n",
    "    importances = clf_enh.feature_importances_\n",
    "    indices = np.argsort(importances)[::-1]\n",
    "\n",
    "    plt.figure(figsize=(24, 5))\n",
    "    plt.xlabel(\"Feature Name\", fontsize=30)\n",
    "    plt.ylabel(\"Importance \", fontsize=30)\n",
    "    plt.bar(range(5), importances[indices[0:5]],\n",
    "            color=\"r\", align=\"center\")\n",
    "    plt.xticks(range(5), features_enhanced.columns[indices[0:5]].get_values())\n",
    "    plt.xlim([-1, 5])\n",
    "    plt.show()\n",
    "\n",
    "    plt.figure(figsize=(24, 5))\n",
    "    plt.xlabel(\"Feature\", fontsize=30)\n",
    "    plt.ylabel(\"Importance\", fontsize=30)\n",
    "    plt.plot(range(X_train_enh.shape[1]), importances[indices],\n",
    "             color=\"r\")\n",
    "\n",
    "    plt.xlim([-1, X_train_enh.shape[1]])\n",
    "    plt.show()"
   ]
  },
  {
   "cell_type": "code",
   "execution_count": null,
   "id": "50f7b551-3e1d-4ea9-81c0-3b138da5080e",
   "metadata": {},
   "outputs": [],
   "source": [
    "Везде также отмечены типа поступаемых данных"
   ]
  },
  {
   "cell_type": "markdown",
   "id": "3907f6c2-f495-4ff7-90ab-6fe760921235",
   "metadata": {},
   "source": [
    "Также отдельно нужно выделить файл tests.py для тестов."
   ]
  },
  {
   "cell_type": "code",
   "execution_count": null,
   "id": "2989f1bb-b73c-4fe5-8002-84c4398873b4",
   "metadata": {},
   "outputs": [],
   "source": [
    "import numpy as np\n",
    "import scipy.stats\n",
    "\n",
    "\n",
    "def mean_confidence_interval(data: list, confidence: float = 0.95):\n",
    "    a = 1.0 * np.array(data)\n",
    "    n = len(a)\n",
    "    m, se = np.mean(a), scipy.stats.sem(a)\n",
    "    h = se * scipy.stats.t._ppf((1 + confidence) / 2., n - 1)\n",
    "    return m, m - h, m + h\n",
    "\n",
    "\n",
    "def run_test(training_results_lists: dict[str, list]):\n",
    "    tests = ['f1', 'TP', 'TN', 'FP', 'FN']\n",
    "\n",
    "    for test in tests:\n",
    "        mean, lower, upper = mean_confidence_interval(\n",
    "            training_results_lists['{}_enh'.format(test)] - training_results_lists['{}_std'.format(test)],\n",
    "            confidence=0.99)\n",
    "        print(\"Test {},  lower: {}, mean:{} upper: {}\".format(test, lower, mean, upper))"
   ]
  },
  {
   "cell_type": "code",
   "execution_count": null,
   "id": "c69cbb63-ebc2-4991-8701-71cbcadc1040",
   "metadata": {},
   "outputs": [],
   "source": [
    "Ещё создал pipenv файлы."
   ]
  },
  {
   "cell_type": "markdown",
   "id": "5c8d9160-cc9a-43bc-a370-caba707c380f",
   "metadata": {},
   "source": [
    "pipenv install numpy\n",
    "pipenv install pandas\n",
    "pipenv install matplotlib"
   ]
  },
  {
   "cell_type": "markdown",
   "id": "10fa7f1b",
   "metadata": {},
   "source": [
    "# 3. Press Shift+Enter to get 300k/sec salary\n",
    "\n",
    "Выберите произвольный Google Colab notebook из этого крутого [репозитория](https://github.com/amrzv/awesome-colab-notebooks), запустите и примените к своим данным"
   ]
  },
  {
   "cell_type": "markdown",
   "id": "470fd455-b62e-4c23-a2d7-82ba4ef44249",
   "metadata": {},
   "source": [
    "https://colab.research.google.com/drive/1MEWKbm-driRNF8PrU7ogS5o3se-ePyPb"
   ]
  },
  {
   "cell_type": "code",
   "execution_count": null,
   "id": "5a77b0f3-fd79-404b-9bff-fe85ebd74fcb",
   "metadata": {},
   "outputs": [],
   "source": []
  }
 ],
 "metadata": {
  "kernelspec": {
   "display_name": "Python 3 (ipykernel)",
   "language": "python",
   "name": "python3"
  },
  "language_info": {
   "codemirror_mode": {
    "name": "ipython",
    "version": 3
   },
   "file_extension": ".py",
   "mimetype": "text/x-python",
   "name": "python",
   "nbconvert_exporter": "python",
   "pygments_lexer": "ipython3",
   "version": "3.9.0"
  }
 },
 "nbformat": 4,
 "nbformat_minor": 5
}
